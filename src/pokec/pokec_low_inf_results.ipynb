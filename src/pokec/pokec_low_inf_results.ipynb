{
 "cells": [
  {
   "cell_type": "code",
   "execution_count": 1,
   "metadata": {},
   "outputs": [],
   "source": [
    "import numpy as np\n",
    "import os\n",
    "from sklearn.metrics import mean_squared_error as mse_f\n",
    "from scipy import sparse\n",
    "from scipy.stats import gamma\n",
    "from scipy.stats import ttest_ind\n",
    "import warnings\n",
    "import pandas as pd\n",
    "warnings.filterwarnings(\"ignore\", category=DeprecationWarning)\n",
    "warnings.filterwarnings(\"ignore\", category=FutureWarning)"
   ]
  },
  {
   "cell_type": "code",
   "execution_count": 8,
   "metadata": {},
   "outputs": [],
   "source": [
    "paper_model_names = models = {'pif.z-only':'PIF-Item+Net',\n",
    "          'pif.z-theta-joint':'PIF-Joint',\n",
    "            'spf.main':'MSPF', \n",
    "          'unadjusted.main':'Unadjusted',\n",
    "          'network_pref_only.main':'Network Only',\n",
    "          'item_only.main':'PIF-Item',\n",
    "         'no_unobs.main':'BD Adj.',\n",
    "         'item_only_oracle.main':'PIF-Item (No region)'}"
   ]
  },
  {
   "cell_type": "code",
   "execution_count": 3,
   "metadata": {},
   "outputs": [],
   "source": [
    "def print_table(exp_results, regimes, models, exps=10):\n",
    "    ncols = len(regimes.keys())\n",
    "    nrows = len(models)\n",
    "    results=np.zeros((nrows, ncols))\n",
    "    std = np.zeros((nrows, ncols))\n",
    "    \n",
    "    col_idx=0\n",
    "    for regime, c in regimes.items():\n",
    "        row_idx=0\n",
    "        for model in models:\n",
    "            mse = np.zeros(exps)\n",
    "            for i in range(exps):\n",
    "                try:\n",
    "                    beta_predicted = exp_results[c][model][i][0]\n",
    "                    truth = exp_results[c][model][i][1]  \n",
    "                    sq_err = (beta_predicted - truth) ** 2\n",
    "                    mse[i] = sq_err.mean()\n",
    "                except:\n",
    "                    print(model, 'exp',i,'not found')\n",
    "            results[row_idx][col_idx]= \"{:.2e}\".format(mse.mean()) #round(mse.mean()*1000, 3)\n",
    "            std[row_idx][col_idx]= round(mse.std()*1000,4)\n",
    "            row_idx += 1\n",
    "        col_idx += 1\n",
    "    \n",
    "    proper_names = [paper_model_names[m] for m in models]\n",
    "    col_names = list(regimes.keys())\n",
    "    df = pd.DataFrame(results, index=proper_names, columns=col_names, dtype=str)\n",
    "    std_df = pd.DataFrame(std, index=proper_names, columns=col_names, dtype=str)\n",
    "#     df = df + '$\\pm$' + std_df\n",
    "    return df"
   ]
  },
  {
   "cell_type": "code",
   "execution_count": 4,
   "metadata": {},
   "outputs": [],
   "source": [
    "pokec_out = '../../out/pokec_low_inf'\n",
    "exps = 10\n",
    "embed='user'\n",
    "models = ['unadjusted.main',\n",
    "          'spf.main',\n",
    "          'network_pref_only.main',\n",
    "          'pif.z-theta-joint']\n",
    "\n",
    "conf_types = ['homophily', 'exog', 'both']\n",
    "confounding_strengths = [(50, 10), (50, 50), (50, 100)]\n",
    "exp_results = {}\n",
    "\n",
    "for i in range(1, exps+1):\n",
    "    for model in models:\n",
    "        for (cov1conf, cov2conf) in confounding_strengths:\n",
    "            for ct in conf_types:\n",
    "                try:\n",
    "                    base_file_name = 'conf=' + str((cov1conf, cov2conf)) +';conf_type=' +ct + '.npz'\n",
    "                    result_file = os.path.join(pokec_out, str(i), model + '_model_fitted_params', base_file_name)\n",
    "                    res = np.load(result_file)\n",
    "                    params = res['fitted'] \n",
    "                    truth = res['true']\n",
    "\n",
    "                    if (ct, (cov1conf,cov2conf)) in exp_results:\n",
    "                        if model in exp_results[(ct, (cov1conf,cov2conf))]:\n",
    "                            exp_results[(ct, (cov1conf,cov2conf))][model].append((params, truth))\n",
    "                        else:\n",
    "                            exp_results[(ct, (cov1conf,cov2conf))][model]= [(params, truth)]\n",
    "                    else:\n",
    "                        exp_results[(ct, (cov1conf,cov2conf))] = {model:[(params, truth)]}\n",
    "                except:\n",
    "                    print(result_file,' not found')"
   ]
  },
  {
   "cell_type": "code",
   "execution_count": 5,
   "metadata": {},
   "outputs": [
    {
     "name": "stdout",
     "output_type": "stream",
     "text": [
      "|                       |      Low |     Med. |     High |\n",
      "|:----------------------|---------:|---------:|---------:|\n",
      "| Unadjusted            | 0.00142  | 0.00186  | 0.00204  |\n",
      "| MSPF                  | 5.36e-05 | 0.000106 | 8.91e-05 |\n",
      "| Network Only          | 0.000278 | 0.000586 | 0.00062  |\n",
      "| PIF-Item+Net+Purchase | 2.55e-05 | 4.56e-05 | 6.33e-05 |\n"
     ]
    }
   ],
   "source": [
    "confounding_type='exog'\n",
    "models = list(exp_results[(confounding_type, confounding_strengths[1])].keys())\n",
    "regime1 = {'Low':(confounding_type, confounding_strengths[0]), \n",
    "           'Med.':(confounding_type, confounding_strengths[1]), \n",
    "           'High':(confounding_type, confounding_strengths[2])}\n",
    "\n",
    "df1 = print_table(exp_results, regime1, models)\n",
    "print(df1.to_markdown())"
   ]
  },
  {
   "cell_type": "code",
   "execution_count": 6,
   "metadata": {},
   "outputs": [
    {
     "name": "stdout",
     "output_type": "stream",
     "text": [
      "|                       |      Low |     Med. |     High |\n",
      "|:----------------------|---------:|---------:|---------:|\n",
      "| Unadjusted            | 0.00174  | 0.00217  | 0.00222  |\n",
      "| MSPF                  | 0.000135 | 0.000198 | 0.000219 |\n",
      "| Network Only          | 0.000526 | 0.000828 | 0.000888 |\n",
      "| PIF-Item+Net+Purchase | 9.59e-05 | 0.000138 | 0.000135 |\n"
     ]
    }
   ],
   "source": [
    "confounding_type='homophily'\n",
    "models = list(exp_results[(confounding_type, confounding_strengths[0])].keys())\n",
    "regime1 = {'Low':(confounding_type, confounding_strengths[0]), \n",
    "           'Med.':(confounding_type, confounding_strengths[1]), \n",
    "           'High':(confounding_type, confounding_strengths[2])}\n",
    "\n",
    "df2= print_table(exp_results, regime1, models)\n",
    "print(df2.to_markdown())"
   ]
  },
  {
   "cell_type": "code",
   "execution_count": 9,
   "metadata": {},
   "outputs": [
    {
     "name": "stdout",
     "output_type": "stream",
     "text": [
      "|              |      Low |     Med. |     High |\n",
      "|:-------------|---------:|---------:|---------:|\n",
      "| Unadjusted   | 0.00209  | 0.00232  | 0.00241  |\n",
      "| MSPF         | 9.33e-05 | 0.00014  | 0.000139 |\n",
      "| Network Only | 0.000347 | 0.000521 | 0.000562 |\n",
      "| PIF-Joint    | 7.56e-05 | 9.48e-05 | 0.000126 |\n"
     ]
    }
   ],
   "source": [
    "confounding_type='both'\n",
    "models = list(exp_results[(confounding_type, confounding_strengths[0])].keys())\n",
    "regime1 = {'Low':(confounding_type, confounding_strengths[0]), \n",
    "           'Med.':(confounding_type, confounding_strengths[1]), \n",
    "           'High':(confounding_type, confounding_strengths[2])}\n",
    "\n",
    "df3 = print_table(exp_results, regime1, models)\n",
    "print(df3.to_markdown())"
   ]
  },
  {
   "cell_type": "code",
   "execution_count": 21,
   "metadata": {
    "scrolled": true
   },
   "outputs": [
    {
     "data": {
      "text/html": [
       "<div>\n",
       "<style scoped>\n",
       "    .dataframe tbody tr th:only-of-type {\n",
       "        vertical-align: middle;\n",
       "    }\n",
       "\n",
       "    .dataframe tbody tr th {\n",
       "        vertical-align: top;\n",
       "    }\n",
       "\n",
       "    .dataframe thead th {\n",
       "        text-align: right;\n",
       "    }\n",
       "</style>\n",
       "<table border=\"1\" class=\"dataframe\">\n",
       "  <thead>\n",
       "    <tr style=\"text-align: right;\">\n",
       "      <th></th>\n",
       "      <th>Low</th>\n",
       "      <th>Med.</th>\n",
       "      <th>High</th>\n",
       "      <th>Low</th>\n",
       "      <th>Med.</th>\n",
       "      <th>High</th>\n",
       "      <th>Low</th>\n",
       "      <th>Med.</th>\n",
       "      <th>High</th>\n",
       "    </tr>\n",
       "  </thead>\n",
       "  <tbody>\n",
       "    <tr>\n",
       "      <th>Unadjusted</th>\n",
       "      <td>0.00142</td>\n",
       "      <td>0.00186</td>\n",
       "      <td>0.00204</td>\n",
       "      <td>0.00174</td>\n",
       "      <td>0.00217</td>\n",
       "      <td>0.00222</td>\n",
       "      <td>0.00209</td>\n",
       "      <td>0.00232</td>\n",
       "      <td>0.00241</td>\n",
       "    </tr>\n",
       "    <tr>\n",
       "      <th>MSPF</th>\n",
       "      <td>5.36e-05</td>\n",
       "      <td>0.000106</td>\n",
       "      <td>8.91e-05</td>\n",
       "      <td>0.000135</td>\n",
       "      <td>0.000198</td>\n",
       "      <td>0.000219</td>\n",
       "      <td>9.33e-05</td>\n",
       "      <td>0.00014</td>\n",
       "      <td>0.000139</td>\n",
       "    </tr>\n",
       "    <tr>\n",
       "      <th>Network Only</th>\n",
       "      <td>0.000278</td>\n",
       "      <td>0.000586</td>\n",
       "      <td>0.00062</td>\n",
       "      <td>0.000526</td>\n",
       "      <td>0.000828</td>\n",
       "      <td>0.000888</td>\n",
       "      <td>0.000347</td>\n",
       "      <td>0.000521</td>\n",
       "      <td>0.000562</td>\n",
       "    </tr>\n",
       "    <tr>\n",
       "      <th>PIF-Item+Net+Purchase</th>\n",
       "      <td>2.55e-05</td>\n",
       "      <td>4.56e-05</td>\n",
       "      <td>6.33e-05</td>\n",
       "      <td>9.59e-05</td>\n",
       "      <td>0.000138</td>\n",
       "      <td>0.000135</td>\n",
       "      <td>7.56e-05</td>\n",
       "      <td>9.48e-05</td>\n",
       "      <td>0.000126</td>\n",
       "    </tr>\n",
       "  </tbody>\n",
       "</table>\n",
       "</div>"
      ],
      "text/plain": [
       "                            Low      Med.      High       Low      Med.  \\\n",
       "Unadjusted              0.00142   0.00186   0.00204   0.00174   0.00217   \n",
       "MSPF                   5.36e-05  0.000106  8.91e-05  0.000135  0.000198   \n",
       "Network Only           0.000278  0.000586   0.00062  0.000526  0.000828   \n",
       "PIF-Item+Net+Purchase  2.55e-05  4.56e-05  6.33e-05  9.59e-05  0.000138   \n",
       "\n",
       "                           High       Low      Med.      High  \n",
       "Unadjusted              0.00222   0.00209   0.00232   0.00241  \n",
       "MSPF                   0.000219  9.33e-05   0.00014  0.000139  \n",
       "Network Only           0.000888  0.000347  0.000521  0.000562  \n",
       "PIF-Item+Net+Purchase  0.000135  7.56e-05  9.48e-05  0.000126  "
      ]
     },
     "execution_count": 21,
     "metadata": {},
     "output_type": "execute_result"
    }
   ],
   "source": [
    "all_results = pd.concat([df1, df2, df3], axis=1)\n",
    "all_results"
   ]
  },
  {
   "cell_type": "code",
   "execution_count": null,
   "metadata": {},
   "outputs": [],
   "source": []
  }
 ],
 "metadata": {
  "kernelspec": {
   "display_name": "Python 3",
   "language": "python",
   "name": "python3"
  },
  "language_info": {
   "codemirror_mode": {
    "name": "ipython",
    "version": 3
   },
   "file_extension": ".py",
   "mimetype": "text/x-python",
   "name": "python",
   "nbconvert_exporter": "python",
   "pygments_lexer": "ipython3",
   "version": "3.6.10"
  }
 },
 "nbformat": 4,
 "nbformat_minor": 2
}
