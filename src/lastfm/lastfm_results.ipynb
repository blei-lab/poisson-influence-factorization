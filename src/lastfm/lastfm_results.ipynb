{
 "cells": [
  {
   "cell_type": "code",
   "execution_count": 1,
   "metadata": {},
   "outputs": [],
   "source": [
    "import numpy as np\n",
    "import seaborn as sns\n",
    "sns.set(style=\"darkgrid\")\n",
    "from scipy.stats import poisson\n",
    "import pandas as pd\n",
    "from sklearn.metrics import roc_auc_score, accuracy_score, f1_score"
   ]
  },
  {
   "cell_type": "code",
   "execution_count": 2,
   "metadata": {},
   "outputs": [],
   "source": [
    "dat = '../../dat/lastfm/lastfm_processed.npz'\n",
    "array = np.load(dat)\n",
    "A = array['adj']\n",
    "Y_p = array['y_past']\n",
    "Y_heldout = array['y_heldout']\n",
    "Y = array['y']"
   ]
  },
  {
   "cell_type": "code",
   "execution_count": 3,
   "metadata": {},
   "outputs": [
    {
     "data": {
      "text/plain": [
       "(0.013005300837017926, 0.024394825030676606, 0.005181448796802144)"
      ]
     },
     "execution_count": 3,
     "metadata": {},
     "output_type": "execute_result"
    }
   ],
   "source": [
    "Y.mean(), Y_p.mean(), Y_heldout.mean()"
   ]
  },
  {
   "cell_type": "code",
   "execution_count": 4,
   "metadata": {},
   "outputs": [
    {
     "data": {
      "text/plain": [
       "(4052, 3212)"
      ]
     },
     "execution_count": 4,
     "metadata": {},
     "output_type": "execute_result"
    }
   ],
   "source": [
    "users_to_predict = (Y_heldout.sum(axis=1) > 0)\n",
    "Y_heldout.shape[0], users_to_predict.sum()"
   ]
  },
  {
   "cell_type": "code",
   "execution_count": 5,
   "metadata": {},
   "outputs": [],
   "source": [
    "out = '../../out/lastfm/'\n",
    "res_pif = np.load(out + 'pif_fitted_params.npz')\n",
    "res_unadj = np.load(out + 'unadjusted_fitted_params.npz')\n",
    "res_spf= np.load(out + 'spf_fitted_params.npz')\n",
    "res_net = np.load(out + 'network_pref_only_fitted_params.npz')\n",
    "# res_item = np.load(out + 'item_only_fitted_params.npz') "
   ]
  },
  {
   "cell_type": "code",
   "execution_count": 6,
   "metadata": {},
   "outputs": [],
   "source": [
    "beta_pif = res_pif['Beta_hat']\n",
    "beta_unadj = res_unadj['Beta_hat']\n",
    "beta_spf = res_spf['Beta_hat']\n",
    "# beta_item = res_item['Beta_hat']\n",
    "beta_net = res_net['Beta_hat']"
   ]
  },
  {
   "cell_type": "code",
   "execution_count": 7,
   "metadata": {},
   "outputs": [
    {
     "data": {
      "text/plain": [
       "(0.0036490101915274847,\n",
       " 0.00037661314764531604,\n",
       " 0.0006274861694682044,\n",
       " 0.0018330057580251027)"
      ]
     },
     "execution_count": 7,
     "metadata": {},
     "output_type": "execute_result"
    }
   ],
   "source": [
    "beta_unadj.mean(), beta_spf.mean(), beta_pif.mean(), beta_net.mean()"
   ]
  },
  {
   "cell_type": "code",
   "execution_count": 8,
   "metadata": {},
   "outputs": [],
   "source": [
    "def predict(params, A, Y_p, model):\n",
    "    gamma = params['Gamma_hat']\n",
    "    alpha = params['Alpha_hat']\n",
    "    z = params['Z_hat']\n",
    "    \n",
    "    if model == 'pif':\n",
    "        print(z.mean())\n",
    "        \n",
    "    w = params['W_hat']\n",
    "    beta = params['Beta_hat']\n",
    "    \n",
    "    rate = (beta * A).dot(Y_p)\n",
    "    \n",
    "    if model == 'spf' or model == 'network_pref_only':\n",
    "        rate += z.dot(gamma.T)\n",
    "    elif model == 'item_only':\n",
    "        rate += alpha.dot(w.T)\n",
    "    elif model == 'pif':\n",
    "        rate += z.dot(gamma.T) + alpha.dot(w.T)\n",
    "    return rate + 1e-10\n",
    "\n",
    "def get_ll(predicted, truth, restrict_users=None):\n",
    "    if restrict_users is not None:\n",
    "        predicted = predicted[restrict_users,:]\n",
    "        truth = truth[restrict_users,:]\n",
    "    return poisson.logpmf(truth, predicted).sum(axis=1).mean()\n",
    "\n",
    "def get_classification_metrics(pred, truth, restrict_users=None):\n",
    "    if restrict_users is not None:\n",
    "        pred = pred[restrict_users,:]\n",
    "        truth = truth[restrict_users,:]\n",
    "    return roc_auc_score(truth.flatten(), pred.flatten())\n",
    "    \n",
    "\n",
    "def get_influence_rates(params,A, Y_p):\n",
    "    beta = params['Beta_hat']\n",
    "    rate = (beta * A).dot(Y_p)\n",
    "    mean_inf_rate = rate.mean(axis=1)\n",
    "    return mean_inf_rate"
   ]
  },
  {
   "cell_type": "code",
   "execution_count": 10,
   "metadata": {},
   "outputs": [
    {
     "name": "stdout",
     "output_type": "stream",
     "text": [
      "0.04085443425128536\n"
     ]
    }
   ],
   "source": [
    "# heldout_pif = get_ll(predict(res_pif, A, Y_p, 'pif'), Y_heldout, restrict_users=users_to_predict)\n",
    "# heldout_unadjusted = get_ll(predict(res_unadj, A, Y_p, 'unadjusted'), Y_heldout, restrict_users=users_to_predict)\n",
    "# heldout_spf = get_ll(predict(res_spf, A, Y_p, 'spf'), Y_heldout, restrict_users=users_to_predict)\n",
    "# heldout_net = get_ll(predict(res_net, A, Y_p, 'network_pref_only'), Y_heldout, restrict_users=users_to_predict)\n",
    "# heldout_item = get_ll(predict(res_item, A, Y_p, 'item_only'), Y_heldout, restrict_users=users_to_predict)\n",
    "\n",
    "heldout_pif = get_ll(predict(res_pif, A, Y, 'pif'), Y_heldout, restrict_users=users_to_predict)\n",
    "heldout_unadjusted = get_ll(predict(res_unadj, A, Y, 'unadjusted'), Y_heldout, restrict_users=users_to_predict)\n",
    "heldout_spf = get_ll(predict(res_spf, A, Y, 'spf'), Y_heldout, restrict_users=users_to_predict)\n",
    "heldout_net = get_ll(predict(res_net, A, Y, 'network_pref_only'), Y_heldout, restrict_users=users_to_predict)\n",
    "# heldout_item = get_ll(predict(res_item, A, Y, 'item_only'), Y_heldout, restrict_users=users_to_predict)\n"
   ]
  },
  {
   "cell_type": "code",
   "execution_count": 11,
   "metadata": {},
   "outputs": [
    {
     "data": {
      "text/plain": [
       "(-186.51668506496563,\n",
       " -349.7312481059113,\n",
       " -198.83112872329957,\n",
       " -193.44999874293384)"
      ]
     },
     "execution_count": 11,
     "metadata": {},
     "output_type": "execute_result"
    }
   ],
   "source": [
    "heldout_pif, heldout_unadjusted, heldout_spf, heldout_net"
   ]
  },
  {
   "cell_type": "code",
   "execution_count": 12,
   "metadata": {},
   "outputs": [
    {
     "data": {
      "text/plain": [
       "-421.9759061630579"
      ]
     },
     "execution_count": 12,
     "metadata": {},
     "output_type": "execute_result"
    }
   ],
   "source": [
    "# rand_rate = np.zeros(Y_heldout.shape)\n",
    "rand_rate = np.ones(Y_heldout.shape) / (Y.sum(axis=1)[:,np.newaxis])\n",
    "\n",
    "# rand_rate = (0.05*A).dot(Y_p)\n",
    "# rand_rate += 0.01*0.01*2\n",
    "\n",
    "heldout_random = get_ll(rand_rate, Y_heldout, restrict_users=users_to_predict)\n",
    "heldout_random"
   ]
  },
  {
   "cell_type": "code",
   "execution_count": 14,
   "metadata": {},
   "outputs": [
    {
     "name": "stdout",
     "output_type": "stream",
     "text": [
      "0.04085443425128536\n"
     ]
    },
    {
     "data": {
      "text/plain": [
       "(0.6673189627396626, 0.5493587783798766, 0.658881330191263, 0.544191267600071)"
      ]
     },
     "execution_count": 14,
     "metadata": {},
     "output_type": "execute_result"
    }
   ],
   "source": [
    "auc_pif = get_classification_metrics(predict(res_pif, A, Y, 'pif'), Y_heldout, restrict_users=users_to_predict)\n",
    "auc_unadjusted = get_classification_metrics(predict(res_unadj, A, Y, 'unadjusted'), Y_heldout, restrict_users=users_to_predict)\n",
    "auc_spf = get_classification_metrics(predict(res_spf, A, Y, 'spf'), Y_heldout, restrict_users=users_to_predict)\n",
    "auc_net = get_classification_metrics(predict(res_net, A, Y, 'network_pref_only'), Y_heldout, restrict_users=users_to_predict)\n",
    "# auc_item = get_classification_metrics(predict(res_item, A, Y, 'item_only'), Y_heldout, restrict_users=users_to_predict)\n",
    "\n",
    "auc_pif, auc_unadjusted, auc_spf, auc_net\n"
   ]
  },
  {
   "cell_type": "code",
   "execution_count": 27,
   "metadata": {},
   "outputs": [
    {
     "data": {
      "text/plain": [
       "(0.00028107476466332373,\n",
       " 0.010492976995504827,\n",
       " 0.00012490152473026406,\n",
       " 0.0015422542104267883,\n",
       " 0.0008140058953315623)"
      ]
     },
     "execution_count": 27,
     "metadata": {},
     "output_type": "execute_result"
    }
   ],
   "source": [
    "get_influence_rates(res_pif, A, Y_p).mean(), \\\n",
    "get_influence_rates(res_unadj, A, Y_p).mean(), \\\n",
    "get_influence_rates(res_spf, A, Y_p).mean(), \\\n",
    "get_influence_rates(res_net, A, Y_p).mean(), \\\n",
    "get_influence_rates(res_item, A, Y_p).mean()"
   ]
  },
  {
   "cell_type": "code",
   "execution_count": 11,
   "metadata": {},
   "outputs": [],
   "source": [
    "import networkx as nx\n",
    "from scipy.stats import spearmanr\n",
    "\n",
    "def convert_to_arr(centrality):\n",
    "    arr = np.array([centrality[i] for i in range(A.shape[0])])\n",
    "    return arr\n",
    "\n",
    "def calculate_corr_influence(centrality, influence):\n",
    "    arr = np.array([centrality[i] for i in range(A.shape[0])])\n",
    "    corr = spearmanr(influence, arr)\n",
    "    return corr[0]\n"
   ]
  },
  {
   "cell_type": "code",
   "execution_count": 8,
   "metadata": {},
   "outputs": [],
   "source": [
    "edge_list = []\n",
    "for i in range(A.shape[0]):\n",
    "    for j in range(A.shape[1]):\n",
    "        if A[i][j]:\n",
    "            edge_list.append((i,j))\n",
    "\n",
    "g = nx.Graph()\n",
    "g.add_edges_from(edge_list)"
   ]
  },
  {
   "cell_type": "code",
   "execution_count": null,
   "metadata": {},
   "outputs": [],
   "source": [
    "degree = nx.degree_centrality(g)\n",
    "pagerank = nx.pagerank_numpy(g)\n",
    "eigen = nx.eigenvector_centrality(g)"
   ]
  },
  {
   "cell_type": "code",
   "execution_count": 10,
   "metadata": {},
   "outputs": [
    {
     "data": {
      "text/html": [
       "<div>\n",
       "<style scoped>\n",
       "    .dataframe tbody tr th:only-of-type {\n",
       "        vertical-align: middle;\n",
       "    }\n",
       "\n",
       "    .dataframe tbody tr th {\n",
       "        vertical-align: top;\n",
       "    }\n",
       "\n",
       "    .dataframe thead th {\n",
       "        text-align: right;\n",
       "    }\n",
       "</style>\n",
       "<table border=\"1\" class=\"dataframe\">\n",
       "  <thead>\n",
       "    <tr style=\"text-align: right;\">\n",
       "      <th></th>\n",
       "      <th>Degree centrality</th>\n",
       "      <th>Pagerank</th>\n",
       "      <th>Eigenvector centrality</th>\n",
       "    </tr>\n",
       "  </thead>\n",
       "  <tbody>\n",
       "    <tr>\n",
       "      <th>PIF</th>\n",
       "      <td>-0.600394</td>\n",
       "      <td>-0.520733</td>\n",
       "      <td>-0.624198</td>\n",
       "    </tr>\n",
       "    <tr>\n",
       "      <th>Unadjusted</th>\n",
       "      <td>-0.312366</td>\n",
       "      <td>-0.204206</td>\n",
       "      <td>-0.394596</td>\n",
       "    </tr>\n",
       "  </tbody>\n",
       "</table>\n",
       "</div>"
      ],
      "text/plain": [
       "            Degree centrality  Pagerank  Eigenvector centrality\n",
       "PIF                 -0.600394 -0.520733               -0.624198\n",
       "Unadjusted          -0.312366 -0.204206               -0.394596"
      ]
     },
     "execution_count": 10,
     "metadata": {},
     "output_type": "execute_result"
    }
   ],
   "source": [
    "pif_results = [calculate_corr_influence(degree, beta_pif), \n",
    "               calculate_corr_influence(pagerank, beta_pif), \n",
    "               calculate_corr_influence(eigen, beta_pif)]\n",
    "\n",
    "unadj_results = [calculate_corr_influence(degree, beta_unadj), \n",
    "               calculate_corr_influence(pagerank, beta_unadj), \n",
    "               calculate_corr_influence(eigen, beta_unadj)]\n",
    "\n",
    "df = pd.DataFrame([pif_results, unadj_results], columns=['Degree centrality', 'Pagerank', 'Eigenvector centrality'], index=['PIF', 'Unadjusted'])\n",
    "df"
   ]
  },
  {
   "cell_type": "code",
   "execution_count": 122,
   "metadata": {},
   "outputs": [
    {
     "data": {
      "text/plain": [
       "(array([ 38.,  13.,  25.,  92.,  68.,  22.,  72.,  28.,  47.,  38.,  62.,\n",
       "         83.,  49.,  62., 102., 117.,  28.,  25.,  30.,  14.]),\n",
       " array([14.,  3., 20., 24., 14.,  3., 21.,  1., 60.,  2., 18., 30., 13.,\n",
       "         5., 22., 16.,  9.,  7.,  4.,  3.]))"
      ]
     },
     "execution_count": 122,
     "metadata": {},
     "output_type": "execute_result"
    }
   ],
   "source": [
    "deg_arr = A.sum(axis=1)\n",
    "\n",
    "X = Y_p.copy()\n",
    "X[X>1] = 1\n",
    "copurchase = (X * (A.dot(Y))).sum(axis=1)\n",
    "# copurchase /= A.sum(axis=1)\n",
    "\n",
    "idx = beta_pif.argsort()[-20:]\n",
    "deg_arr[idx], copurchase[idx]"
   ]
  },
  {
   "cell_type": "code",
   "execution_count": 118,
   "metadata": {},
   "outputs": [
    {
     "data": {
      "image/png": "[encoded data removed]",
      "text/plain": [
       "<Figure size 432x288 with 1 Axes>"
      ]
     },
     "metadata": {},
     "output_type": "display_data"
    }
   ],
   "source": [
    "import matplotlib.pyplot as plt\n",
    "\n",
    "# deg = g.degree()\n",
    "# deg_arr = convert_to_arr(deg)\n",
    "\n",
    "deg_arr = A.sum(axis=1)\n",
    "\n",
    "indices_1 = np.where(deg_arr <= 20)\n",
    "indices_2 = np.where((deg_arr > 20) & (deg_arr <=75))\n",
    "indices_3 = np.where((deg_arr > 75) & (deg_arr <=150))\n",
    "b1 = beta_pif[indices_1]\n",
    "b2 = beta_pif[indices_2]\n",
    "b3 = beta_pif[indices_3]\n",
    "# data = {'Deg <= 20':beta_pif[indices_1],\n",
    "#        'Deg > 20 and <= 50':beta_pif[indices_2],\n",
    "#        'Deg > 50 and <= 100':beta_pif[indices_3]}\n",
    "sns.distplot(b1[b1 <= 0.0005], label='Deg <= 20')\n",
    "sns.distplot(b2[b2 <= 0.0005], label='Deg > 20 and <= 50')\n",
    "sns.distplot(b3[b3 <= 0.0005], label='Deg > 50 and <= 100')\n",
    "plt.legend()\n",
    "plt.show()\n",
    "# sns.scatterplot(deg_arr[indices], beta_pif[indices])\n",
    "# sns.scatterplot(deg_arr, beta_pif)"
   ]
  },
  {
   "cell_type": "code",
   "execution_count": 108,
   "metadata": {},
   "outputs": [],
   "source": [
    "X = Y_p.copy()\n",
    "X[X>1] = 1\n",
    "copurchase = (X * (A.dot(Y))).sum(axis=1)\n",
    "copurchase /= A.sum(axis=1)"
   ]
  },
  {
   "cell_type": "code",
   "execution_count": 109,
   "metadata": {},
   "outputs": [
    {
     "data": {
      "text/plain": [
       "<matplotlib.axes._subplots.AxesSubplot at 0x7f82094389b0>"
      ]
     },
     "execution_count": 109,
     "metadata": {},
     "output_type": "execute_result"
    },
    {
     "data": {
      "image/png": "[encoded data removed]",
      "text/plain": [
       "<Figure size 432x288 with 1 Axes>"
      ]
     },
     "metadata": {},
     "output_type": "display_data"
    }
   ],
   "source": [
    "sns.distplot(copurchase)"
   ]
  },
  {
   "cell_type": "code",
   "execution_count": 114,
   "metadata": {},
   "outputs": [
    {
     "data": {
      "image/png": "[encoded data removed]",
      "text/plain": [
       "<Figure size 432x288 with 1 Axes>"
      ]
     },
     "metadata": {},
     "output_type": "display_data"
    }
   ],
   "source": [
    "indices_1 = np.where(copurchase <= 5)\n",
    "indices_2 = np.where(copurchase > 5)\n",
    "b1 = beta_unadj[indices_1]\n",
    "b2 = beta_unadj[indices_2]\n",
    "# b3 = beta_unadj[indices_3]\n",
    "\n",
    "sns.distplot(b1[b1 <= 0.01], label='Copurchase <= 5', kde=True)\n",
    "sns.distplot(b2[b2 <= 0.01], label='Copurchase > 5', kde=True)\n",
    "# sns.distplot(b3[b3 <= 0.01], label='Copurchase > 400', kde=True)\n",
    "plt.legend()\n",
    "plt.show()"
   ]
  },
  {
   "cell_type": "code",
   "execution_count": 117,
   "metadata": {},
   "outputs": [
    {
     "data": {
      "text/plain": [
       "(SpearmanrResult(correlation=0.057361062439635145, pvalue=0.00022581593981799405),\n",
       " SpearmanrResult(correlation=-0.6488501479289093, pvalue=0.0))"
      ]
     },
     "execution_count": 117,
     "metadata": {},
     "output_type": "execute_result"
    }
   ],
   "source": [
    "spearmanr(copurchase, beta_unadj), spearmanr(copurchase, beta_pif)"
   ]
  },
  {
   "cell_type": "code",
   "execution_count": null,
   "metadata": {},
   "outputs": [],
   "source": [
    "indices_1 = np.where(copurchase <= 50)\n",
    "indices_2 = np.where((copurchase > 100) & (copurchase <=400))\n",
    "indices_3 = np.where((copurchase > 400))\n",
    "b1 = beta_pif[indices_1]\n",
    "b2 = beta_pif[indices_2]\n",
    "b3 = beta_pif[indices_3]\n",
    "\n",
    "sns.distplot(b1[b1 <= 0.001], label='Copurchase <= 50', kde=True)\n",
    "sns.distplot(b2[b2 <= 0.001], label='Copurchase > 100 and <= 400', kde=True)\n",
    "sns.distplot(b3[b3 <= 0.001], label='Copurchase > 400', kde=True)\n",
    "plt.legend()\n",
    "plt.show()"
   ]
  },
  {
   "cell_type": "code",
   "execution_count": 64,
   "metadata": {},
   "outputs": [],
   "source": [
    "overlap = []\n",
    "per_item_overlap = np.zeros(Y.shape[1])\n",
    "row_idx, col_idx = np.nonzero(A)\n",
    "for (i,j) in zip(row_idx, col_idx):\n",
    "    i1 = np.nonzero(Y[i,:])[0]\n",
    "    i2 = np.nonzero(Y_p[j,:])[0]\n",
    "    intersect = np.intersect1d(i1, i2)\n",
    "    overlap.append(intersect.shape[0])\n",
    "    for k in intersect:\n",
    "        per_item_overlap[k] += 1"
   ]
  },
  {
   "cell_type": "code",
   "execution_count": 58,
   "metadata": {},
   "outputs": [
    {
     "data": {
      "text/plain": [
       "(2.9364837135834545, 0.5189749854223101)"
      ]
     },
     "execution_count": 58,
     "metadata": {},
     "output_type": "execute_result"
    }
   ],
   "source": [
    "overlap = np.array(overlap)\n",
    "overlap.mean(), (overlap > 0).sum()/overlap.shape[0]\n",
    "\n",
    "# import matplotlib.pyplot as plt\n",
    "# plt.hist(overlap)\n",
    "# plt.xlim(0, 200)\n",
    "# np.histogram(overlap)"
   ]
  },
  {
   "cell_type": "code",
   "execution_count": 67,
   "metadata": {},
   "outputs": [],
   "source": [
    "items = (per_item_overlap > 100)"
   ]
  },
  {
   "cell_type": "code",
   "execution_count": 69,
   "metadata": {},
   "outputs": [],
   "source": [
    "selected_overlap = []\n",
    "\n",
    "for (i,j) in zip(row_idx, col_idx):\n",
    "    i1 = np.nonzero(Y[i,items])[0]\n",
    "    i2 = np.nonzero(Y_p[j,items])[0]\n",
    "    intersect = np.intersect1d(i1, i2)\n",
    "    selected_overlap.append(intersect.shape[0])\n"
   ]
  },
  {
   "cell_type": "code",
   "execution_count": 71,
   "metadata": {},
   "outputs": [
    {
     "data": {
      "text/plain": [
       "(2.779295620788155, 0.506659605405924)"
      ]
     },
     "execution_count": 71,
     "metadata": {},
     "output_type": "execute_result"
    }
   ],
   "source": [
    "selected_overlap = np.array(selected_overlap)\n",
    "selected_overlap.mean(), (selected_overlap > 0).sum()/selected_overlap.shape[0]"
   ]
  },
  {
   "cell_type": "code",
   "execution_count": 30,
   "metadata": {},
   "outputs": [],
   "source": [
    "n = A.shape[0]\n",
    "betas = np.hstack([beta_unadj, beta_net, beta_item, beta_spf, beta_pif])\n",
    "method_names = ['unadjusted']*n + ['network only']*n + ['item only']*n + ['spf']*n + ['pif']*n\n",
    "df = pd.DataFrame(np.array([betas, method_names]).T, columns=['beta', 'method'])\n",
    "df = df.astype({'beta': 'float'})"
   ]
  },
  {
   "cell_type": "code",
   "execution_count": 33,
   "metadata": {},
   "outputs": [
    {
     "data": {
      "text/plain": [
       "<matplotlib.axes._subplots.AxesSubplot at 0x7ff5d0332828>"
      ]
     },
     "execution_count": 33,
     "metadata": {},
     "output_type": "execute_result"
    },
    {
     "data": {
      "image/png": "[encoded data removed]",
      "text/plain": [
       "<Figure size 432x288 with 1 Axes>"
      ]
     },
     "metadata": {},
     "output_type": "display_data"
    }
   ],
   "source": [
    "sns.violinplot(x='beta', y='method', data=df)"
   ]
  },
  {
   "cell_type": "code",
   "execution_count": null,
   "metadata": {},
   "outputs": [],
   "source": []
  }
 ],
 "metadata": {
  "kernelspec": {
   "display_name": "Python 3",
   "language": "python",
   "name": "python3"
  },
  "language_info": {
   "codemirror_mode": {
    "name": "ipython",
    "version": 3
   },
   "file_extension": ".py",
   "mimetype": "text/x-python",
   "name": "python",
   "nbconvert_exporter": "python",
   "pygments_lexer": "ipython3",
   "version": "3.6.10"
  }
 },
 "nbformat": 4,
 "nbformat_minor": 4
}
