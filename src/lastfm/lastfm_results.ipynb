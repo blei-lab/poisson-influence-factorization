{
 "cells": [
  {
   "cell_type": "code",
   "execution_count": 1,
   "metadata": {},
   "outputs": [],
   "source": [
    "import numpy as np\n",
    "import seaborn as sns\n",
    "sns.set(style=\"darkgrid\")\n",
    "from scipy.stats import poisson\n",
    "import pandas as pd\n",
    "from sklearn.metrics import roc_auc_score, accuracy_score, f1_score"
   ]
  },
  {
   "cell_type": "code",
   "execution_count": 13,
   "metadata": {},
   "outputs": [],
   "source": [
    "def predict(params, A, Y_p, model):\n",
    "    gamma = params['Gamma_hat']\n",
    "    alpha = params['Alpha_hat']\n",
    "    z = params['Z_hat']\n",
    "    w = params['W_hat']\n",
    "    beta = params['Beta_hat']\n",
    "    \n",
    "    rate = (beta * A).dot(Y_p)\n",
    "    \n",
    "    if model == 'spf' or model == 'network_pref_only':\n",
    "        rate += z.dot(gamma.T)\n",
    "    elif model == 'item_only':\n",
    "        rate += alpha.dot(w.T)\n",
    "    elif model == 'pif':\n",
    "        rate += z.dot(gamma.T) + alpha.dot(w.T)\n",
    "    return rate + 1e-10\n",
    "\n",
    "def get_ll(predicted, truth, restrict_users=None):\n",
    "    if restrict_users is not None:\n",
    "        predicted = predicted[restrict_users,:]\n",
    "        truth = truth[restrict_users,:]\n",
    "    return poisson.logpmf(truth, predicted).sum(axis=1).mean()\n",
    "\n",
    "def get_classification_metrics(pred, truth, restrict_users=None):\n",
    "    if restrict_users is not None:\n",
    "        pred = pred[restrict_users,:]\n",
    "        truth = truth[restrict_users,:]\n",
    "    return roc_auc_score(truth.flatten(), pred.flatten())\n",
    "    \n",
    "\n",
    "def get_influence_rates(params,A, Y_p):\n",
    "    beta = params['Beta_hat']\n",
    "    rate = (beta * A).dot(Y_p)\n",
    "    mean_inf_rate = rate.mean(axis=1)\n",
    "    return mean_inf_rate"
   ]
  },
  {
   "cell_type": "markdown",
   "metadata": {},
   "source": [
    "### Load adjacency matrix and past, current and future (held-out) song-listens"
   ]
  },
  {
   "cell_type": "code",
   "execution_count": 7,
   "metadata": {},
   "outputs": [
    {
     "name": "stdout",
     "output_type": "stream",
     "text": [
      "Num users that listen to at least one song in the held-out data: 3212\n"
     ]
    }
   ],
   "source": [
    "dat = '../../dat/lastfm/lastfm_processed.npz'\n",
    "array = np.load(dat)\n",
    "A = array['adj']\n",
    "Y_p = array['y_past']\n",
    "Y_heldout = array['y_heldout']\n",
    "Y = array['y']\n",
    "\n",
    "## Filter users that listen to at least 1 song in the held-out period\n",
    "users_to_predict = (Y_heldout.sum(axis=1) > 0)\n",
    "print(\"Num users that listen to at least one song in the held-out data:\", users_to_predict.sum())"
   ]
  },
  {
   "cell_type": "markdown",
   "metadata": {},
   "source": [
    "### Load results; print average influence and heldout prediction results."
   ]
  },
  {
   "cell_type": "code",
   "execution_count": 12,
   "metadata": {},
   "outputs": [
    {
     "name": "stdout",
     "output_type": "stream",
     "text": [
      "0.04085443425128536\n",
      "0.04085443425128536\n"
     ]
    },
    {
     "data": {
      "text/html": [
       "<div>\n",
       "<style scoped>\n",
       "    .dataframe tbody tr th:only-of-type {\n",
       "        vertical-align: middle;\n",
       "    }\n",
       "\n",
       "    .dataframe tbody tr th {\n",
       "        vertical-align: top;\n",
       "    }\n",
       "\n",
       "    .dataframe thead th {\n",
       "        text-align: right;\n",
       "    }\n",
       "</style>\n",
       "<table border=\"1\" class=\"dataframe\">\n",
       "  <thead>\n",
       "    <tr style=\"text-align: right;\">\n",
       "      <th></th>\n",
       "      <th>Method</th>\n",
       "      <th>Average Estimated Influence</th>\n",
       "      <th>HOL</th>\n",
       "      <th>AUC</th>\n",
       "    </tr>\n",
       "  </thead>\n",
       "  <tbody>\n",
       "    <tr>\n",
       "      <th>0</th>\n",
       "      <td>Unadjusted</td>\n",
       "      <td>0.003649</td>\n",
       "      <td>-331.743795</td>\n",
       "      <td>0.545955</td>\n",
       "    </tr>\n",
       "    <tr>\n",
       "      <th>1</th>\n",
       "      <td>mSPF</td>\n",
       "      <td>0.000377</td>\n",
       "      <td>-198.366396</td>\n",
       "      <td>0.659936</td>\n",
       "    </tr>\n",
       "    <tr>\n",
       "      <th>2</th>\n",
       "      <td>Network-Only</td>\n",
       "      <td>0.001833</td>\n",
       "      <td>-191.551117</td>\n",
       "      <td>0.547117</td>\n",
       "    </tr>\n",
       "    <tr>\n",
       "      <th>3</th>\n",
       "      <td>PIF</td>\n",
       "      <td>0.000627</td>\n",
       "      <td>-186.010893</td>\n",
       "      <td>0.667357</td>\n",
       "    </tr>\n",
       "  </tbody>\n",
       "</table>\n",
       "</div>"
      ],
      "text/plain": [
       "         Method  Average Estimated Influence         HOL       AUC\n",
       "0    Unadjusted                     0.003649 -331.743795  0.545955\n",
       "1          mSPF                     0.000377 -198.366396  0.659936\n",
       "2  Network-Only                     0.001833 -191.551117  0.547117\n",
       "3           PIF                     0.000627 -186.010893  0.667357"
      ]
     },
     "execution_count": 12,
     "metadata": {},
     "output_type": "execute_result"
    }
   ],
   "source": [
    "out = '../../out/lastfm/'\n",
    "b = 'Beta_hat'\n",
    "clean_names = {'unadjusted':'Unadjusted',\n",
    "              'spf':'mSPF',\n",
    "              'network_pref_only':'Network-Only',\n",
    "              'pif':'PIF'}\n",
    "\n",
    "methods = ['unadjusted', 'spf', 'network_pref_only', 'pif']\n",
    "results = {m:np.load(out + m + '_fitted_params.npz') for m in methods}\n",
    "\n",
    "hol = {m:get_ll(predict(results[m], A, Y_p, m), \n",
    "                Y_heldout, \n",
    "                restrict_users=users_to_predict) for m in methods}\n",
    "auc = {m:get_classification_metrics(predict(results[m], A, Y_p, m), \n",
    "                                    Y_heldout, \n",
    "                                    restrict_users=users_to_predict) for m in methods}\n",
    "\n",
    "data = [[clean_names[m], results[m][b].mean(), hol[m], auc[m]] for m in methods]\n",
    "\n",
    "df = pd.DataFrame(data, columns=['Method', 'Average Estimated Influence', 'HOL', 'AUC'])\n",
    "df"
   ]
  }
 ],
 "metadata": {
  "kernelspec": {
   "display_name": "Python 3",
   "language": "python",
   "name": "python3"
  },
  "language_info": {
   "codemirror_mode": {
    "name": "ipython",
    "version": 3
   },
   "file_extension": ".py",
   "mimetype": "text/x-python",
   "name": "python",
   "nbconvert_exporter": "python",
   "pygments_lexer": "ipython3",
   "version": "3.6.10"
  }
 },
 "nbformat": 4,
 "nbformat_minor": 4
}
